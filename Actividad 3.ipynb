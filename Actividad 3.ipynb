{
 "cells": [
  {
   "cell_type": "code",
   "execution_count": 22,
   "id": "a5c62fd8-9c95-461e-9e91-f4374a7be90d",
   "metadata": {},
   "outputs": [
    {
     "name": "stdout",
     "output_type": "stream",
     "text": [
      "Estimated Pi: 3.143468\n"
     ]
    }
   ],
   "source": [
    "import random\n",
    "\n",
    "num_samples=1000000\n",
    "\n",
    "\n",
    "\n",
    "\n",
    "inside_circle=0\n",
    "\n",
    "for i in range(num_samples):\n",
    "    x= random.uniform(-1,1)\n",
    "    y= random.uniform(-1,1)\n",
    "    if x**2 + y**2 <= 1:\n",
    "        inside_circle +=1\n",
    "\n",
    "pi_estimate=4*inside_circle/num_samples\n",
    "\n",
    "print(f\"Estimated Pi: {pi_estimate }\")"
   ]
  },
  {
   "cell_type": "code",
   "execution_count": null,
   "id": "d66919ba-443b-4b8c-9a18-519c19133009",
   "metadata": {},
   "outputs": [],
   "source": []
  },
  {
   "cell_type": "code",
   "execution_count": null,
   "id": "313e35fe-4168-4f7d-a54a-dc569e3a6ffa",
   "metadata": {},
   "outputs": [],
   "source": []
  }
 ],
 "metadata": {
  "kernelspec": {
   "display_name": "Python 3 (ipykernel)",
   "language": "python",
   "name": "python3"
  },
  "language_info": {
   "codemirror_mode": {
    "name": "ipython",
    "version": 3
   },
   "file_extension": ".py",
   "mimetype": "text/x-python",
   "name": "python",
   "nbconvert_exporter": "python",
   "pygments_lexer": "ipython3",
   "version": "3.12.7"
  }
 },
 "nbformat": 4,
 "nbformat_minor": 5
}
