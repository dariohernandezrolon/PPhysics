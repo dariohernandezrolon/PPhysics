{
 "cells": [
  {
   "cell_type": "code",
   "execution_count": 1,
   "id": "62fa60da-d325-4c88-a53d-c3249f6ecfed",
   "metadata": {},
   "outputs": [
    {
     "name": "stdout",
     "output_type": "stream",
     "text": [
      "He pensado un número entre 1 y 1000. ¡Intenta adivinarlo en 60 segundos!😜😜\n"
     ]
    },
    {
     "name": "stdin",
     "output_type": "stream",
     "text": [
      "Escribe tu intento:  67\n"
     ]
    },
    {
     "name": "stdout",
     "output_type": "stream",
     "text": [
      "¡Muy bajo! Intenta con un número más alto.\n"
     ]
    },
    {
     "name": "stdin",
     "output_type": "stream",
     "text": [
      "Escribe tu intento:  78\n"
     ]
    },
    {
     "name": "stdout",
     "output_type": "stream",
     "text": [
      "¡Muy bajo! Intenta con un número más alto.\n"
     ]
    },
    {
     "name": "stdin",
     "output_type": "stream",
     "text": [
      "Escribe tu intento:  99\n"
     ]
    },
    {
     "name": "stdout",
     "output_type": "stream",
     "text": [
      "¡Muy bajo! Intenta con un número más alto.\n"
     ]
    },
    {
     "name": "stdin",
     "output_type": "stream",
     "text": [
      "Escribe tu intento:  100\n"
     ]
    },
    {
     "name": "stdout",
     "output_type": "stream",
     "text": [
      "¡Muy bajo! Intenta con un número más alto.\n"
     ]
    },
    {
     "name": "stdin",
     "output_type": "stream",
     "text": [
      "Escribe tu intento:  500\n"
     ]
    },
    {
     "name": "stdout",
     "output_type": "stream",
     "text": [
      "¡Muy alto! Intenta con un número más bajo.\n"
     ]
    },
    {
     "name": "stdin",
     "output_type": "stream",
     "text": [
      "Escribe tu intento:  250\n"
     ]
    },
    {
     "name": "stdout",
     "output_type": "stream",
     "text": [
      "¡Muy alto! Intenta con un número más bajo.\n"
     ]
    },
    {
     "name": "stdin",
     "output_type": "stream",
     "text": [
      "Escribe tu intento:  175\n"
     ]
    },
    {
     "name": "stdout",
     "output_type": "stream",
     "text": [
      "¡Muy alto! Intenta con un número más bajo.\n"
     ]
    },
    {
     "name": "stdin",
     "output_type": "stream",
     "text": [
      "Escribe tu intento:  150\n"
     ]
    },
    {
     "name": "stdout",
     "output_type": "stream",
     "text": [
      "¡Muy bajo! Intenta con un número más alto.\n"
     ]
    },
    {
     "name": "stdin",
     "output_type": "stream",
     "text": [
      "Escribe tu intento:  160\n"
     ]
    },
    {
     "name": "stdout",
     "output_type": "stream",
     "text": [
      "¡Muy alto! Intenta con un número más bajo.\n"
     ]
    },
    {
     "name": "stdin",
     "output_type": "stream",
     "text": [
      "Escribe tu intento:  155\n"
     ]
    },
    {
     "name": "stdout",
     "output_type": "stream",
     "text": [
      "¡Muy bajo! Intenta con un número más alto.\n"
     ]
    },
    {
     "name": "stdin",
     "output_type": "stream",
     "text": [
      "Escribe tu intento:  158\n"
     ]
    },
    {
     "name": "stdout",
     "output_type": "stream",
     "text": [
      "¡Muy alto! Intenta con un número más bajo.\n"
     ]
    },
    {
     "name": "stdin",
     "output_type": "stream",
     "text": [
      "Escribe tu intento:  157\n"
     ]
    },
    {
     "name": "stdout",
     "output_type": "stream",
     "text": [
      "¡Muy alto! Intenta con un número más bajo.\n"
     ]
    },
    {
     "name": "stdin",
     "output_type": "stream",
     "text": [
      "Escribe tu intento:  156\n"
     ]
    },
    {
     "name": "stdout",
     "output_type": "stream",
     "text": [
      "¡Felicidades! Adivinaste el número.\n"
     ]
    }
   ],
   "source": [
    "import random\n",
    "import time\n",
    "\n",
    "# La computadora piensa un número entre 1 y 1000\n",
    "numero_secreto = random.randint(1, 1000)\n",
    "print(\"He pensado un número entre 1 y 1000. ¡Intenta adivinarlo en 60 segundos!😜😜\")\n",
    "# contar el timpo\n",
    "tiempo_inicio = time.time() #cuenta el tiempo \n",
    "\n",
    "# Variable para almacenar si el jugador adivinó\n",
    "adivinado = False\n",
    "\n",
    "# Ciclo para seguir jugando hasta que se adivine el número o se acabe el tiempo\n",
    "while not adivinado:\n",
    "    # Calcular el tiempo transcurrido jugando\n",
    "    tiempo_transcurrido = time.time() - tiempo_inicio\n",
    "    if tiempo_transcurrido > 60:\n",
    "        print(\"\\n¡Se acabó el tiempo! No lograste adivinar el número.\")\n",
    "        print(f\"El número secreto era: {numero_secreto}.\")\n",
    "        break\n",
    "\n",
    "    # Pedir al usuario que introduzca un número\n",
    "    try:\n",
    "        intento = int(input(\"Escribe tu intento: \"))\n",
    "        if intento < 1 or intento > 1000:\n",
    "            print(\"Por favor, elige un número entre 1 y 1000.\")\n",
    "            continue\n",
    "    except ValueError:\n",
    "        print(\"Por favor, introduce un número válido.\")\n",
    "        continue\n",
    "\n",
    "    # Comparar el intento con el número secreto\n",
    "    if intento < numero_secreto:\n",
    "        print(\"¡Muy bajo! Intenta con un número más alto.\")\n",
    "    elif intento > numero_secreto:\n",
    "        print(\"¡Muy alto! Intenta con un número más bajo.\")\n",
    "    else:\n",
    "        print(\"¡Felicidades! Adivinaste el número.\")\n",
    "        adivinado = True\n",
    "\n"
   ]
  },
  {
   "cell_type": "code",
   "execution_count": null,
   "id": "5e0e3570-1e07-4e29-a746-861026afeb8a",
   "metadata": {},
   "outputs": [],
   "source": []
  },
  {
   "cell_type": "code",
   "execution_count": null,
   "id": "02325805-b640-4d4b-b7f8-68d5abe39892",
   "metadata": {},
   "outputs": [],
   "source": []
  },
  {
   "cell_type": "code",
   "execution_count": null,
   "id": "373e3dab-e169-4151-8227-41aa2afaffeb",
   "metadata": {},
   "outputs": [],
   "source": []
  }
 ],
 "metadata": {
  "kernelspec": {
   "display_name": "Python 3 (ipykernel)",
   "language": "python",
   "name": "python3"
  },
  "language_info": {
   "codemirror_mode": {
    "name": "ipython",
    "version": 3
   },
   "file_extension": ".py",
   "mimetype": "text/x-python",
   "name": "python",
   "nbconvert_exporter": "python",
   "pygments_lexer": "ipython3",
   "version": "3.12.7"
  }
 },
 "nbformat": 4,
 "nbformat_minor": 5
}
